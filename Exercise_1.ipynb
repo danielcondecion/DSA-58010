{
  "nbformat": 4,
  "nbformat_minor": 0,
  "metadata": {
    "colab": {
      "name": "Exercise 1.ipynb",
      "provenance": [],
      "authorship_tag": "ABX9TyOp7HOBjAGF3k1/0rg4XHVN",
      "include_colab_link": true
    },
    "kernelspec": {
      "name": "python3",
      "display_name": "Python 3"
    },
    "language_info": {
      "name": "python"
    }
  },
  "cells": [
    {
      "cell_type": "markdown",
      "metadata": {
        "id": "view-in-github",
        "colab_type": "text"
      },
      "source": [
        "<a href=\"https://colab.research.google.com/github/danielcondecion/DSA-58010/blob/main/Exercise_1.ipynb\" target=\"_parent\"><img src=\"https://colab.research.google.com/assets/colab-badge.svg\" alt=\"Open In Colab\"/></a>"
      ]
    },
    {
      "cell_type": "code",
      "execution_count": 2,
      "metadata": {
        "colab": {
          "base_uri": "https://localhost:8080/"
        },
        "id": "54Md5vGDTeL1",
        "outputId": "2cd01122-7402-4092-891b-a5d495b3d8e7"
      },
      "outputs": [
        {
          "output_type": "stream",
          "name": "stdout",
          "text": [
            "10\n",
            "The area of a circle 314.1592653589793\n"
          ]
        }
      ],
      "source": [
        "import math\n",
        "class Circle():\n",
        "    def __init__(self, rad):\n",
        "      self.rad = int (rad)\n",
        "    def Area (self):\n",
        "      return pi*(self.rad**2)\n",
        "    def display (self):\n",
        "      print(\"The area of a circle\", self.Area())\n",
        "\n",
        "\n",
        "pi = math.pi\n",
        "chapati=Circle(input())\n",
        "chapati.display()"
      ]
    }
  ]
}