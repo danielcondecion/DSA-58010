{
  "nbformat": 4,
  "nbformat_minor": 0,
  "metadata": {
    "colab": {
      "provenance": [],
      "authorship_tag": "ABX9TyMXFiOiM+8uJRK9p3raMZJb",
      "include_colab_link": true
    },
    "kernelspec": {
      "name": "python3",
      "display_name": "Python 3"
    },
    "language_info": {
      "name": "python"
    }
  },
  "cells": [
    {
      "cell_type": "markdown",
      "metadata": {
        "id": "view-in-github",
        "colab_type": "text"
      },
      "source": [
        "<a href=\"https://colab.research.google.com/github/danielcondecion/DSA-58010/blob/main/Stacks_and_Queues.ipynb\" target=\"_parent\"><img src=\"https://colab.research.google.com/assets/colab-badge.svg\" alt=\"Open In Colab\"/></a>"
      ]
    },
    {
      "cell_type": "markdown",
      "source": [
        "Stack Implementation using Array"
      ],
      "metadata": {
        "id": "lTEMqG8D3_gS"
      }
    },
    {
      "cell_type": "code",
      "execution_count": 7,
      "metadata": {
        "id": "YJDbV8iXGM6m",
        "colab": {
          "base_uri": "https://localhost:8080/"
        },
        "outputId": "f056e6a2-1c1c-462e-cf84-e3e24a5adc24"
      },
      "outputs": [
        {
          "output_type": "stream",
          "name": "stdout",
          "text": [
            "Thu\n",
            "Wed\n"
          ]
        }
      ],
      "source": [
        "class Stack:\n",
        "   def __init__(self):\n",
        "      self.stack = []\n",
        "\n",
        "   def add(self, dataval):\n",
        "# Use list append method to add element\n",
        "      if dataval not in self.stack:\n",
        "         self.stack.append(dataval)\n",
        "         return True\n",
        "      else:\n",
        "         return False\n",
        "#Use list pop method to remove element\n",
        "   def remove(self):\n",
        "      if len(self.stack) <=0:\n",
        "        return (\"No element in the Stack\")\n",
        "      else:\n",
        "        return self.stack.pop()\n",
        "    \n",
        "AStack = Stack()\n",
        "AStack.add(\"Mon\")\n",
        "AStack.add(\"Tue\")\n",
        "AStack.add(\"Wed\")\n",
        "AStack.add(\"Thu\")\n",
        "print(AStack.remove())      \n",
        "print(AStack.remove())"
      ]
    },
    {
      "cell_type": "code",
      "source": [
        "class Stack:\n",
        "   def __init__(self):\n",
        "      self.stack = []\n",
        "\n",
        "   def add(self, dataval):\n",
        "# Use list append method to add element\n",
        "      if dataval not in self.stack:\n",
        "         self.stack.append(dataval)\n",
        "         return True\n",
        "      else:\n",
        "         return False\n",
        "\n",
        "# Use list pop method to remove element\n",
        "   def remove(self):\n",
        "      if len(self.stack) <= 0:\n",
        "         return (\"No element in the Stack\")\n",
        "      else:\n",
        "         return self.stack.pop()\n",
        "\n",
        "AStack = []\n",
        "#to APPEND/push all the elemenets in the stack\n",
        "AStack.append(\"Mon\")\n",
        "AStack.append(\"Tue\")\n",
        "AStack.append(\"Wed\")\n",
        "AStack.append(\"Thu\")\n",
        "print(\"The list of elements in the stack are:\")\n",
        "print(AStack)\n",
        "\n",
        "\n",
        "#to remove each element/pop()\n",
        "AStack.pop()\n",
        "print(\"\\After popping Thursday, the new elements in the stack are: \")\n",
        "print(AStack)\n"
      ],
      "metadata": {
        "colab": {
          "base_uri": "https://localhost:8080/"
        },
        "id": "mzAcac-nGrR4",
        "outputId": "b11f9744-87a0-4db6-ca39-949659dbf4b8"
      },
      "execution_count": 18,
      "outputs": [
        {
          "output_type": "stream",
          "name": "stdout",
          "text": [
            "The list of elements in the stack are:\n",
            "['Mon', 'Tue', 'Wed', 'Thu']\n",
            "\\After popping Thursday, the new elements in the stack are: \n",
            "['Mon', 'Tue', 'Wed']\n"
          ]
        }
      ]
    },
    {
      "cell_type": "markdown",
      "source": [
        "Stack Implementation using Linked List"
      ],
      "metadata": {
        "id": "OOmMTArJ4Lwi"
      }
    },
    {
      "cell_type": "code",
      "source": [
        "#ORIGINAL CODE\n",
        "#Define another method (remove without bypassing LinkedList method.)\n",
        "#Pop the last element, \"Thu\" without using array\n",
        "\n",
        "#Python program demo, Stacks using Linked List\n",
        "\n",
        "\n",
        "class Stack:\n",
        "  def __init__(self):\n",
        "    self.stack = []\n",
        "class Node:\n",
        "  def __init__(self,data):\n",
        "    self.data = data\n",
        "    self.next = None        #intialize as null\n",
        "class LinkedList:\n",
        "  def __init__(self):\n",
        "    self.head = None      #initialize as head null\n",
        "  def printList(self):\n",
        "    temp = self.head\n",
        "    while(temp):\n",
        "      print(temp.data)\n",
        "      temp = temp.next\n",
        "  def is_empty(self):\n",
        "    if self.head == None:\n",
        "      return True\n",
        "    else:\n",
        "      return False\n",
        "\n",
        "  def pop(self):\n",
        "    if self.is_empty():\n",
        "      return None\n",
        "    else:\n",
        "      poppednode = fourth\n",
        "      return poppednode.data\n",
        "\n",
        "llist = LinkedList()\n",
        "llist.head = Node (\"Mon\")\n",
        "second = Node (\"Tue\")\n",
        "third = Node (\"Wed\")\n",
        "fourth = Node (\"Thu\")\n",
        "\n",
        "llist.head.next = second\n",
        "second.next = third\n",
        "third.next= fourth\n",
        "\n",
        "llist.printList()\n",
        "llist.pop()"
      ],
      "metadata": {
        "id": "NTnQTS0wPzYJ",
        "colab": {
          "base_uri": "https://localhost:8080/",
          "height": 105
        },
        "outputId": "2c593364-4d58-4841-9745-f21c09400272"
      },
      "execution_count": 22,
      "outputs": [
        {
          "output_type": "stream",
          "name": "stdout",
          "text": [
            "Mon\n",
            "Tue\n",
            "Wed\n",
            "Thu\n"
          ]
        },
        {
          "output_type": "execute_result",
          "data": {
            "text/plain": [
              "'Thu'"
            ],
            "application/vnd.google.colaboratory.intrinsic+json": {
              "type": "string"
            }
          },
          "metadata": {},
          "execution_count": 22
        }
      ]
    },
    {
      "cell_type": "code",
      "source": [
        "#Python profram to demo Stack using Linked List\n",
        "\n",
        "class Node:\n",
        "  def __init__ (self, data):\n",
        "    self.data = data\n",
        "    self.next = None    #intialize as null\n",
        "    self.head = []\n",
        "class LinkedList:\n",
        "  def __init__(self):\n",
        "    self.head = None    #initialize head as null\n",
        "  def printList(self):\n",
        "    temp = self.head\n",
        "    while(temp):\n",
        "      print(temp.data)\n",
        "      temp = temp.next\n",
        "  \n",
        "mylist = LinkedList ()\n",
        "mylist.head = Node(\"Sunny\")\n",
        "second= Node(\"Rainy\")\n",
        "third = Node (\"Windy\")\n",
        "fourth = Node (\"Breeze\")\n",
        "\n",
        "mylist.head.next = second\n",
        "second.next = third\n",
        "third.next = fourth\n",
        "mylist.printList()\n",
        "\n",
        "#to use push and pop\n",
        "LinkedList = []\n",
        "LinkedList.append(\"Sunny\")\n",
        "LinkedList.append(\"Rainy\")\n",
        "LinkedList.append(\"Windy\")\n",
        "LinkedList.append(\"Breeze\")\n",
        "print (\"The list of elements in the stack are:\")\n",
        "print (LinkedList)\n",
        "print (\"After popping Breeze, the elements in the stack are: \")\n",
        "LinkedList.pop()\n",
        "print(LinkedList)\n"
      ],
      "metadata": {
        "colab": {
          "base_uri": "https://localhost:8080/"
        },
        "id": "42LNQqz_GhUc",
        "outputId": "33b471b5-0bca-41d4-c2d6-26f39162292b"
      },
      "execution_count": 32,
      "outputs": [
        {
          "output_type": "stream",
          "name": "stdout",
          "text": [
            "Sunny\n",
            "Rainy\n",
            "Windy\n",
            "Breeze\n",
            "The list of elements in the stack are:\n",
            "['Sunny', 'Rainy', 'Windy', 'Breeze']\n",
            "After popping Breeze, the elements in the stack are: \n",
            "['Sunny', 'Rainy', 'Windy']\n"
          ]
        }
      ]
    },
    {
      "cell_type": "code",
      "source": [
        "#REVISED CODE\n",
        "#Define another method(remove) without bypassing LinkedList method.\n",
        "#Pop the last element, \"Thu\" without using array\n",
        "\n",
        "class Stack:\n",
        "  def __init__(self):\n",
        "    self.stack = []\n",
        "class Node:\n",
        "  def __init__(self,data):\n",
        "    self.data = data\n",
        "    self.next = None        #intialize as null\n",
        "\n",
        "class LinkedList:\n",
        "  def __init__(self):\n",
        "    self.head = None      #initialize as head null\n",
        "\n",
        "  def printList(self):\n",
        "    temp = self.head\n",
        "    while(temp):\n",
        "      print(temp.data)\n",
        "      temp = temp.next\n",
        "\n",
        "  def pop(self):        #Defining pop\n",
        "    if (self.head.next == None):\n",
        "        self.head = None\n",
        "    else:\n",
        "      temp = self.head\n",
        "      while(temp.next.next != None):\n",
        "        temp = temp.next\n",
        "      temp.next = None\n",
        "\n",
        "llist = LinkedList()\n",
        "llist.head = Node (\"Mon\")\n",
        "second = Node (\"Tue\")\n",
        "third = Node (\"Wed\")\n",
        "fourth = Node (\"Thu\")\n",
        "\n",
        "llist.head.next = second\n",
        "second.next = third\n",
        "third.next= fourth\n",
        "\n",
        "llist.pop()\n",
        "llist.printList()\n"
      ],
      "metadata": {
        "colab": {
          "base_uri": "https://localhost:8080/"
        },
        "id": "BsLkc9-gDZfO",
        "outputId": "91de9158-ec59-470f-82da-dfcc840c3ad3"
      },
      "execution_count": 28,
      "outputs": [
        {
          "output_type": "stream",
          "name": "stdout",
          "text": [
            "Mon\n",
            "Tue\n",
            "Wed\n"
          ]
        }
      ]
    },
    {
      "cell_type": "code",
      "source": [],
      "metadata": {
        "id": "Ip3Ye1p4G6Bz"
      },
      "execution_count": null,
      "outputs": []
    }
  ]
}