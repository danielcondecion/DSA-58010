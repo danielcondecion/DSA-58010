{
  "nbformat": 4,
  "nbformat_minor": 0,
  "metadata": {
    "colab": {
      "provenance": [],
      "authorship_tag": "ABX9TyOveywvFZRBUX4Kj6BPeyD6",
      "include_colab_link": true
    },
    "kernelspec": {
      "name": "python3",
      "display_name": "Python 3"
    },
    "language_info": {
      "name": "python"
    }
  },
  "cells": [
    {
      "cell_type": "markdown",
      "metadata": {
        "id": "view-in-github",
        "colab_type": "text"
      },
      "source": [
        "<a href=\"https://colab.research.google.com/github/danielcondecion/DSA-58010/blob/main/(Midterm)_Lab_No_1_.ipynb\" target=\"_parent\"><img src=\"https://colab.research.google.com/assets/colab-badge.svg\" alt=\"Open In Colab\"/></a>"
      ]
    },
    {
      "cell_type": "code",
      "execution_count": null,
      "metadata": {
        "colab": {
          "base_uri": "https://localhost:8080/"
        },
        "id": "EoFcqxgGoruq",
        "outputId": "618c4ccc-c138-4f40-e8c2-097e189a7bcc"
      },
      "outputs": [
        {
          "output_type": "stream",
          "name": "stdout",
          "text": [
            "The Polygon is: Rectangle\n",
            "Number of sides: 4\n",
            "Area = 20.5\n"
          ]
        }
      ],
      "source": [
        "class Polygons:\n",
        "\n",
        "   def __init__(self, name, sides, area):\n",
        "    self._name = name\n",
        "    self._sides = sides\n",
        "    self._area = area\n",
        "\n",
        "   def get_name(self):\n",
        "     return self._name\n",
        "   def get_sides(self):\n",
        "     return self._sides\n",
        "   def get_area(self):\n",
        "     return self._area\n",
        "   def set_name(self, name):\n",
        "    self._name = name\n",
        "   def set_sides(self, sides):\n",
        "    self._sides - sides\n",
        "   def set_area(self, area):\n",
        "    self._area - area\n",
        "\n",
        "\n",
        "p = Polygons( 'Rectangle', 4, 20.5)\n",
        "print('The Polygon is:', p.get_name())\n",
        "print('Number of sides:',p.get_sides())\n",
        "print('Area =',p.get_area())\n",
        "\n"
      ]
    }
  ]
}