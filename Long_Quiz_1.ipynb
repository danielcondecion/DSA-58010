{
  "nbformat": 4,
  "nbformat_minor": 0,
  "metadata": {
    "colab": {
      "provenance": [],
      "authorship_tag": "ABX9TyN3vKgYBSMZskmv7fScAPfZ",
      "include_colab_link": true
    },
    "kernelspec": {
      "name": "python3",
      "display_name": "Python 3"
    },
    "language_info": {
      "name": "python"
    }
  },
  "cells": [
    {
      "cell_type": "markdown",
      "metadata": {
        "id": "view-in-github",
        "colab_type": "text"
      },
      "source": [
        "<a href=\"https://colab.research.google.com/github/danielcondecion/DSA-58010/blob/main/Long_Quiz_1.ipynb\" target=\"_parent\"><img src=\"https://colab.research.google.com/assets/colab-badge.svg\" alt=\"Open In Colab\"/></a>"
      ]
    },
    {
      "cell_type": "markdown",
      "source": [
        "Create a Python program that appends each character of your full name"
      ],
      "metadata": {
        "id": "pB_oDCpzOyxD"
      }
    },
    {
      "cell_type": "code",
      "source": [
        "class Node:\n",
        "\n",
        "    def __init__(self, data):\n",
        "        self.data = data\n",
        "        self.next = None\n",
        "\n",
        "class LinkedList:\n",
        "\n",
        "    def __init__(self):\n",
        "        self.head = None\n",
        "\n",
        "    def reverse(self):\n",
        "        prev = None\n",
        "        current = self.head\n",
        "        while(current is not None):\n",
        "            next = current.next\n",
        "            current.next = prev\n",
        "            prev = current\n",
        "            current = next\n",
        "        self.head = prev\n",
        "\n",
        "    def push(self, new_data):\n",
        "        new_node = Node(new_data)\n",
        "        new_node.next = self.head\n",
        "        self.head = new_node\n",
        " \n",
        "    def printList(self):\n",
        "        temp = self.head\n",
        "        while(temp):\n",
        "            print (temp.data,end=\" \")\n",
        "            temp = temp.next\n",
        "\n",
        "llist = LinkedList()\n",
        "llist.push(\"D\")\n",
        "llist.push(\"a\")\n",
        "llist.push(\"n\")\n",
        "llist.push(\"i\")\n",
        "llist.push(\"e\")\n",
        "llist.push(\"l\")\n",
        "llist.push(\" \")\n",
        "llist.push(\"C\")\n",
        "llist.push(\"o\")\n",
        "llist.push(\"n\")\n",
        "llist.push(\"d\")\n",
        "llist.push(\"e\")\n",
        "llist.push(\"c\")\n",
        "llist.push(\"i\")\n",
        "llist.push(\"o\")\n",
        "llist.push(\"n\")\n",
        "\n",
        "\n",
        "print (\"Full Name:\")\n",
        "llist.reverse()\n",
        "llist.printList()\n",
        "\n",
        "print (\"\\nReversed Full Name:\")\n",
        "llist.reverse()\n",
        "llist.printList() \n",
        "\n"
      ],
      "metadata": {
        "colab": {
          "base_uri": "https://localhost:8080/"
        },
        "id": "4FRgq2pVPtrj",
        "outputId": "6ca7e981-fffa-4ae9-da4a-8c1bb738f9eb"
      },
      "execution_count": 33,
      "outputs": [
        {
          "output_type": "stream",
          "name": "stdout",
          "text": [
            "Full Name:\n",
            "D a n i e l   C o n d e c i o n \n",
            "Reversed Full Name:\n",
            "n o i c e d n o C   l e i n a D "
          ]
        }
      ]
    }
  ]
}