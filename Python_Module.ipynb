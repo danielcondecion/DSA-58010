{
  "nbformat": 4,
  "nbformat_minor": 0,
  "metadata": {
    "colab": {
      "provenance": [],
      "collapsed_sections": [],
      "authorship_tag": "ABX9TyPC4iLUlPknFknHbGlVVZmA",
      "include_colab_link": true
    },
    "kernelspec": {
      "name": "python3",
      "display_name": "Python 3"
    },
    "language_info": {
      "name": "python"
    }
  },
  "cells": [
    {
      "cell_type": "markdown",
      "metadata": {
        "id": "view-in-github",
        "colab_type": "text"
      },
      "source": [
        "<a href=\"https://colab.research.google.com/github/danielcondecion/DSA-58010/blob/main/Python_Module.ipynb\" target=\"_parent\"><img src=\"https://colab.research.google.com/assets/colab-badge.svg\" alt=\"Open In Colab\"/></a>"
      ]
    },
    {
      "cell_type": "markdown",
      "source": [
        "Example 1"
      ],
      "metadata": {
        "id": "0bRaQw10MPqI"
      }
    },
    {
      "cell_type": "code",
      "execution_count": null,
      "metadata": {
        "id": "MBulJevWH7nQ",
        "colab": {
          "base_uri": "https://localhost:8080/"
        },
        "outputId": "9ac61ad2-0bdc-4770-bb79-6e225576c6f8"
      },
      "outputs": [
        {
          "output_type": "stream",
          "name": "stdout",
          "text": [
            "i\n",
            "f\n"
          ]
        }
      ],
      "source": [
        "import array\n",
        "array.typecodes\n",
        "A = array.array ('i', [1,2,3,4,5,6])              #initialize the elements of array A\n",
        "B = array.array('f', [1.5,2.5,3.5,4.5,5.5,6.5])   #initialize the elements of B\n",
        "print(A.typecode)\n",
        "print(B.typecode)"
      ]
    },
    {
      "cell_type": "markdown",
      "source": [
        "Example 2 .Create/convert the elements of array A to float/decimal number"
      ],
      "metadata": {
        "id": "ElQZI2ZjHQc4"
      }
    },
    {
      "cell_type": "code",
      "source": [
        "import array\n",
        "A = array.array('f',[1,2,3,4,5,6])   #initializing elements of array A\n",
        "print(A)"
      ],
      "metadata": {
        "id": "S-4dnDzzHTVQ",
        "colab": {
          "base_uri": "https://localhost:8080/"
        },
        "outputId": "5465c132-59e0-4638-c279-42da16ea9d9d"
      },
      "execution_count": 3,
      "outputs": [
        {
          "output_type": "stream",
          "name": "stdout",
          "text": [
            "array('f', [1.0, 2.0, 3.0, 4.0, 5.0, 6.0])\n"
          ]
        }
      ]
    },
    {
      "cell_type": "markdown",
      "source": [
        "Example 3. What is the output of these codes?"
      ],
      "metadata": {
        "id": "JIvgHxeHQ2Hu"
      }
    },
    {
      "cell_type": "code",
      "source": [
        "import array \n",
        "a = array.array('i', [4,5,6,7])     #initialize array a\n",
        "b = array.array('i', [1,2,3])         #initialize array b\n",
        "a.insert(1,2)         #insert element: 2 to index 1\n",
        "print(a)\n",
        "a.insert(-1,0)         #insert element: 0 to index -1\n",
        "print(a)\n",
        "a.insert(6,8)         #insert element: 8 to index 6 which is out of range\n",
        "print(a)              #append the last element ofthe array\n",
        "b[0] = 5\n",
        "b[1] = 4\n",
        "b[2] = 3\n",
        "print(b)"
      ],
      "metadata": {
        "colab": {
          "base_uri": "https://localhost:8080/"
        },
        "id": "vE33gHH4RWL_",
        "outputId": "0a69ba93-b04c-4b6b-b24f-1f37e21a5eda"
      },
      "execution_count": 6,
      "outputs": [
        {
          "output_type": "stream",
          "name": "stdout",
          "text": [
            "array('i', [4, 2, 5, 6, 7])\n",
            "array('i', [4, 2, 5, 6, 0, 7])\n",
            "array('i', [4, 2, 5, 6, 0, 7, 8])\n",
            "array('i', [5, 4, 3])\n"
          ]
        }
      ]
    },
    {
      "cell_type": "markdown",
      "source": [
        "# **Linked Lists**"
      ],
      "metadata": {
        "id": "vrr-GCEcTRYt"
      }
    },
    {
      "cell_type": "code",
      "source": [
        "#function that creates node object \n",
        "\n",
        "class Node:\n",
        "  def __init__(self, data):\n",
        "    self.data = data    #assign data \n",
        "    self.next = None    #initialize as null\n",
        "\n",
        "#function that creaetes Linked-list object\n",
        "\n",
        "class LinkedList:       #initialize the LinekdList class\n",
        "  def __init__(self):\n",
        "    self.head = None    #initialize as head null\n",
        "  def printList(self):\n",
        "    temp = self.head\n",
        "    while(temp):\n",
        "      print(temp.data)\n",
        "      temp = temp.next\n",
        "\n",
        "list = LinkedList()     #empty list\n",
        "list.head= Node(1)\n",
        "second = Node(2)\n",
        "third = Node(3)\n",
        "fourth = Node(4)\n",
        "\n",
        "list.head.next = second\n",
        "second.next = third\n",
        "third.next = fourth\n",
        "\n",
        "list.printList()"
      ],
      "metadata": {
        "colab": {
          "base_uri": "https://localhost:8080/"
        },
        "id": "4RA358Q_TVU9",
        "outputId": "7fd7ac98-fcd7-4ff1-85ae-18ce96f6be71"
      },
      "execution_count": 10,
      "outputs": [
        {
          "output_type": "stream",
          "name": "stdout",
          "text": [
            "1\n",
            "2\n",
            "3\n",
            "4\n"
          ]
        }
      ]
    },
    {
      "cell_type": "code",
      "source": [],
      "metadata": {
        "id": "A6uu1jS4U89t"
      },
      "execution_count": null,
      "outputs": []
    }
  ]
}