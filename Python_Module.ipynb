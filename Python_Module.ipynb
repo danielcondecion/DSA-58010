{
  "nbformat": 4,
  "nbformat_minor": 0,
  "metadata": {
    "colab": {
      "provenance": [],
      "collapsed_sections": [],
      "authorship_tag": "ABX9TyPLeZpkcRJtrGhCcMcotbcy",
      "include_colab_link": true
    },
    "kernelspec": {
      "name": "python3",
      "display_name": "Python 3"
    },
    "language_info": {
      "name": "python"
    }
  },
  "cells": [
    {
      "cell_type": "markdown",
      "metadata": {
        "id": "view-in-github",
        "colab_type": "text"
      },
      "source": [
        "<a href=\"https://colab.research.google.com/github/danielcondecion/DSA-58010/blob/main/Python_Module.ipynb\" target=\"_parent\"><img src=\"https://colab.research.google.com/assets/colab-badge.svg\" alt=\"Open In Colab\"/></a>"
      ]
    },
    {
      "cell_type": "markdown",
      "source": [
        "Example 1"
      ],
      "metadata": {
        "id": "0bRaQw10MPqI"
      }
    },
    {
      "cell_type": "code",
      "execution_count": 1,
      "metadata": {
        "id": "MBulJevWH7nQ",
        "colab": {
          "base_uri": "https://localhost:8080/"
        },
        "outputId": "9ac61ad2-0bdc-4770-bb79-6e225576c6f8"
      },
      "outputs": [
        {
          "output_type": "stream",
          "name": "stdout",
          "text": [
            "i\n",
            "f\n"
          ]
        }
      ],
      "source": [
        "import array\n",
        "array.typecodes\n",
        "A = array.array ('i', [1,2,3,4,5,6])              #initialize the elements of array A\n",
        "B = array.array('f', [1.5,2.5,3.5,4.5,5.5,6.5])   #initialize the elements of B\n",
        "print(A.typecode)\n",
        "print(B.typecode)"
      ]
    },
    {
      "cell_type": "markdown",
      "source": [
        "Example 2 .Create/convert the elements of array A to float/decimal number"
      ],
      "metadata": {
        "id": "ElQZI2ZjHQc4"
      }
    },
    {
      "cell_type": "code",
      "source": [],
      "metadata": {
        "id": "S-4dnDzzHTVQ"
      },
      "execution_count": null,
      "outputs": []
    }
  ]
}