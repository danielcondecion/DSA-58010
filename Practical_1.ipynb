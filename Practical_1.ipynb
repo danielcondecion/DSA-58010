{
  "nbformat": 4,
  "nbformat_minor": 0,
  "metadata": {
    "colab": {
      "name": "Practical 1.ipynb",
      "provenance": [],
      "authorship_tag": "ABX9TyNtvuI9GSJJ65b5CUd9fcx8",
      "include_colab_link": true
    },
    "kernelspec": {
      "name": "python3",
      "display_name": "Python 3"
    },
    "language_info": {
      "name": "python"
    }
  },
  "cells": [
    {
      "cell_type": "markdown",
      "metadata": {
        "id": "view-in-github",
        "colab_type": "text"
      },
      "source": [
        "<a href=\"https://colab.research.google.com/github/danielcondecion/DSA-58010/blob/main/Practical_1.ipynb\" target=\"_parent\"><img src=\"https://colab.research.google.com/assets/colab-badge.svg\" alt=\"Open In Colab\"/></a>"
      ]
    },
    {
      "cell_type": "code",
      "execution_count": null,
      "metadata": {
        "colab": {
          "base_uri": "https://localhost:8080/"
        },
        "id": "gpFak9O3Z24A",
        "outputId": "ffa850e1-cd13-405a-a87d-dfae089955a7"
      },
      "outputs": [
        {
          "output_type": "stream",
          "name": "stdout",
          "text": [
            "Even number:26\n",
            "Even number:98\n",
            "Even number:62\n",
            "The sum of even numbers is 186\n"
          ]
        }
      ],
      "source": [
        "numbers = [26,49,98,87,62,75]\n",
        "\n",
        "total= 0\n",
        "for n in numbers:\n",
        "    if n %2 ==0:\n",
        "      print(f\"Even number:{n}\")\n",
        "      total += n\n",
        "print(\"The sum of even numbers is\", total)\n"
      ]
    }
  ]
}